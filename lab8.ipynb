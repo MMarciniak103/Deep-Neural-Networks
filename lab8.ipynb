{
  "nbformat": 4,
  "nbformat_minor": 0,
  "metadata": {
    "colab": {
      "name": "lab8.ipynb",
      "provenance": [],
      "collapsed_sections": [],
      "toc_visible": true
    },
    "kernelspec": {
      "name": "python3",
      "display_name": "Python 3"
    },
    "language_info": {
      "name": "python"
    },
    "accelerator": "GPU"
  },
  "cells": [
    {
      "cell_type": "markdown",
      "metadata": {
        "id": "60IzlMsuY2w4"
      },
      "source": [
        "# Wstęp\n",
        "Zadanie 8 obejmuje zagadnienie segmentacji obrazów i wprowadza konwolucyjne modele o architekturze enkoder-dekoder. Modele takie wykorzystują konwolucje i downsampling aby uzyskać mapę cech o mniejszej rozdzielczości (enkoder), a następnie \"dekodują\" otrzymaną ją z powrotem do większej rozdzielczości aby wydobyć w rozdzielczości oryginalnego obrazka interesujące nas informacje semantyczne - np. segmentację obrazka na poszczególne obiekty. Architektury tego typu mają również zastosowania w modelach generatywnych, w zadaniach które ogólnie określamy jako *image to image translation*."
      ]
    },
    {
      "cell_type": "markdown",
      "metadata": {
        "id": "dWre4lMJesof"
      },
      "source": [
        "# Cel ćwiczenia\n",
        "\n",
        "Celem ćwiczenia jest poznanie\n",
        "\n",
        "\n",
        "\n",
        "*   metod upsamplingu w sieciach konwolucyjnych\n",
        "*   architektur konwolucyjnych o strukturze enkoder-dekoder\n",
        "*   wykorzystania sieci głębokich w segmentacji danych obrazowych\n",
        "\n",
        "\n",
        "\n"
      ]
    },
    {
      "cell_type": "markdown",
      "metadata": {
        "id": "RR_sgwz9lWmi"
      },
      "source": [
        "# Upsampling w sieciach konwolucyjnych\n",
        "\n",
        "Na laboratorium 5 dowiedzieliśmy się już, że do zmniejszania rozdzielczości mapy cech możemy wykorzystać dwa podejścia - pooling lub warstwę konwolucyjną z odpowiednim parametrem `stride`. Podobnie jest ze zwiększaniem rozdzielczości.\n",
        "\n",
        "Wersja prostsza, odwrotność poolingu, to `torch.nn.Upsample`. Jest to pozbawiona uczących się parametrów klasa dająca wybór trybu interpolacji."
      ]
    },
    {
      "cell_type": "code",
      "metadata": {
        "id": "SDwfWomRl8wL",
        "colab": {
          "base_uri": "https://localhost:8080/"
        },
        "outputId": "bf63a24c-43d2-4e0d-cf6f-f93a270a5510"
      },
      "source": [
        "import torch\n",
        "\n",
        "upsampler = torch.nn.Upsample(scale_factor=2)\n",
        "\n",
        "dummy_input = torch.zeros((3,3,32,32))\n",
        "upsampler(dummy_input).shape"
      ],
      "execution_count": 1,
      "outputs": [
        {
          "output_type": "execute_result",
          "data": {
            "text/plain": [
              "torch.Size([3, 3, 64, 64])"
            ]
          },
          "metadata": {
            "tags": []
          },
          "execution_count": 1
        }
      ]
    },
    {
      "cell_type": "markdown",
      "metadata": {
        "id": "utxlxvxcl8ar"
      },
      "source": [
        "Klasa `torch.nn.ConvTranspose2d` to natomiast ucząca się operacja \"odwracania\" konwolucji. Jej relacja wymiarów wejście-wyjście powinna być taka, jak wyjście do wejścia dla warstwy `torch.nn.Conv2d` o analogicznych parametrach konstruktora. Innymi słowy, jeśli tensor przepuścimy przez konwolucję, a następnie konwolucję transponowaną, oczekujemy powrotu do początkowej szerokości i wysokości - o ile oczywiście parametry tych dwóch warstw będą się ze sobą zgadzać.\n",
        "\n",
        "Konwolucja transponowana wprowadza dodatkowy parametr `output_padding`. Jest on potrzebny dlatego, że ze względu na zaokrąglanie wymiarów dla zwyczajnej konwolucji wykorzystującej `stride>1`, na podstawie wymiaru jej wyjścia nie da się jednoznacznie określić wymiaru jej wejścia. Aby spełnić założenie że warstwa `torch.nn.ConvTranspose2d` odwraca zmianę wymiarów której dokonuje `torch.nn.Conv2d`, potrzebny jest więc dodatkowy parametr pozwalający doprecyzować oczekiwany rozmiar. W razie problemów z uzyskaniem właściwego rozmiaru, dokumentacja torcha podaje konkrenty wzór na zależność między parametrami warstwy a szeokością i wysokością jej wyniku.\n",
        "\n",
        "https://pytorch.org/docs/stable/generated/torch.nn.ConvTranspose2d.html"
      ]
    },
    {
      "cell_type": "code",
      "metadata": {
        "id": "W_3YLljknltt",
        "colab": {
          "base_uri": "https://localhost:8080/"
        },
        "outputId": "c2685f82-15a0-4427-935e-f79e7bf30378"
      },
      "source": [
        "upsampler = torch.nn.ConvTranspose2d(3,3,2, stride=2)\n",
        "\n",
        "dummy_input = torch.zeros((3,3,32,32))\n",
        "\n",
        "print(f\"kształt po upsamplingu: {upsampler(dummy_input).shape}\")\n",
        "\n",
        "conv = torch.nn.Conv2d(3,3,3, stride=2, padding=1)\n",
        "deconv = torch.nn.ConvTranspose2d(3,3,3, stride=2, padding=1)\n",
        "fixed_deconv = torch.nn.ConvTranspose2d(3,3,3, stride=2, padding=1, output_padding=1)\n",
        "\n",
        "print(f\"kształt po konwolucji: {conv(dummy_input).shape}\")\n",
        "print(f\"kształt po konwolucji i konw. transponowanej: {deconv(conv(dummy_input)).shape}\")\n",
        "print(f\"j.w., ale z output_padding: {fixed_deconv(conv(dummy_input)).shape}\")"
      ],
      "execution_count": 2,
      "outputs": [
        {
          "output_type": "stream",
          "text": [
            "kształt po upsamplingu: torch.Size([3, 3, 64, 64])\n",
            "kształt po konwolucji: torch.Size([3, 3, 16, 16])\n",
            "kształt po konwolucji i konw. transponowanej: torch.Size([3, 3, 31, 31])\n",
            "j.w., ale z output_padding: torch.Size([3, 3, 32, 32])\n"
          ],
          "name": "stdout"
        }
      ]
    },
    {
      "cell_type": "markdown",
      "metadata": {
        "id": "n1A6SuJZqgBg"
      },
      "source": [
        "# Segmentacja obrazu\n",
        "\n",
        "Model enkoder-dekoder testować będziemy w zadaniu nadzorowanej segmentacji. Oznacza to, że dla obrazu wejściowego musimy znaleźć etykiety ze z góry wyznaczonego zbioru, przewidujemy je jednak nie dla całego obrazu, a na poziomie każdego piksela. Skorzystamy z dostępnego w `torchvision.datasets` zbioru VOC. Najpierw jednak musimy zdefiniować transformację danych, kóra będzie nieco bardziej skomplikowana niż do tej pory.\n",
        "\n",
        "Ponieważ etykiety są podane również jako obraz, trzeba pamiętać, że augmentacje losowe muszą zgadzać się pomiędzy obrazkiem a etykietą. Niestety, każde wywołanie funkcji w standardowym przepływie danych z wykorzystaniem `transforms` losuje augmentację na nowo. Aby uzyskać identyczną augmentację, konieczne będzie wykorzystanie funkcji z `torchvision.transforms.functional`.\n",
        "\n",
        "Druga istotna zmiana to konwersja do tensora. Aby zachować `target` jako tensor całkowitoliczbowy, musimy zastosować własną alternatywę dla ToTensor(), jako że `ToTensor` zawsze przekształca obrazy do tensora zmiennmoprzecinkowego w zakresie [0,1]."
      ]
    },
    {
      "cell_type": "markdown",
      "metadata": {
        "id": "DZiK62OuxsoB"
      },
      "source": [
        "# Zadanie 1\n",
        "\n",
        "Zdefiniuj transformację, która dla pary wejściowej `image, target` zwraca zaugmentowane w identyczny sposób obraz i etykiety. Transformacja powinna obejmować:\n",
        "\n",
        "*   dowolną augmentację na danych wejściowych\n",
        "*   padding to stałego rozmiaru (w przypadku etykiet, padować trzeba wartością 255)\n",
        "*   konwersję do tensora - zmiennoprzecinkowego dla obrazu, całkowitoliczbowego dla etykiety\n",
        "\n",
        "Zdefiniuj również odpowiednią transformację dla zbioru testowego, pamiętając że dane testowe nie powinny byc augmentowane.\n",
        "\n"
      ]
    },
    {
      "cell_type": "code",
      "metadata": {
        "colab": {
          "base_uri": "https://localhost:8080/"
        },
        "id": "rkfBkJqOJbNe",
        "outputId": "6b08bce0-9c76-4d59-ac51-7c39d79ceaee"
      },
      "source": [
        "from PIL import Image\n",
        "from google.colab import drive\n",
        "import os\n",
        "drive.mount(\"/content/drive/\")\n",
        "log_dir = '/content/drive/MyDrive/lab07/logs/'\n",
        "im = Image.open(\"/content/drive/MyDrive/van_gogh.jpg\")"
      ],
      "execution_count": 3,
      "outputs": [
        {
          "output_type": "stream",
          "text": [
            "Drive already mounted at /content/drive/; to attempt to forcibly remount, call drive.mount(\"/content/drive/\", force_remount=True).\n"
          ],
          "name": "stdout"
        }
      ]
    },
    {
      "cell_type": "code",
      "metadata": {
        "colab": {
          "base_uri": "https://localhost:8080/"
        },
        "id": "L8fb_hFfLzae",
        "outputId": "e92b7b2a-52ae-4fcd-d36f-c52dacca5a41"
      },
      "source": [
        "import numpy  as np\n",
        "test = torch.from_numpy(np.array(im)).type(torch.long)\n",
        "print(test.dtype)\n",
        "#test = torch.where(torch.logical_or(test==0, test==255),test,torch.tensor(1, dtype=torch.long))\n",
        "#print(test.dtype)"
      ],
      "execution_count": 4,
      "outputs": [
        {
          "output_type": "stream",
          "text": [
            "torch.int64\n"
          ],
          "name": "stdout"
        }
      ]
    },
    {
      "cell_type": "code",
      "metadata": {
        "id": "Kd2R0l8aajz6"
      },
      "source": [
        "import torchvision.datasets as datasets\n",
        "import torchvision.transforms as transforms\n",
        "import torchvision.transforms.functional as TF\n",
        "import numpy as np\n",
        "import PIL\n",
        "import random\n",
        "\n",
        "def pair_transforms(image, target):\n",
        "\n",
        "    # początkowy resize jest dokonany żeby zmniejszyć koszt obliczeniowy na potrzeby ograniczeń laboratorium\n",
        "    # standardowo pracując na zbiorze nie dokonalibyśmy tego przekształcenia! \n",
        "    resize = transforms.Resize((image.size[1]//4,image.size[0]//4), PIL.Image.NEAREST)\n",
        "    out_image = resize(image)\n",
        "    out_target = resize(target)\n",
        "    # #\n",
        "    if random.random()>0.5:\n",
        "        angle = random.randint(-30, 30)\n",
        "        out_image = TF.rotate(out_image, angle)\n",
        "        out_target = TF.rotate(out_target, angle)\n",
        "    \n",
        "    w,h = out_image.size[0], out_image.size[1]\n",
        "    pad_top=(128-h)//2\n",
        "    pad_bottom=(128-h)//2+(128-h)%2\n",
        "    pad_left = (128-w)//2\n",
        "    pad_right=(128-w)//2+(128-w)%2\n",
        "    padding = torch.nn.ConstantPad2d([pad_left,pad_right,pad_top,pad_bottom], 0)\n",
        "    out_image = padding(transforms.ToTensor()(out_image))\n",
        "    padding = torch.nn.ConstantPad2d([pad_left,pad_right,pad_top,pad_bottom], 255)\n",
        "    out_target = padding(torch.from_numpy(np.array(out_target))).type(torch.long)\n",
        "    # # ponieważ VOC jest trudnym zbiorem, przedefiniujmy problem\n",
        "    # # zamiast identyfikować wszystkie \"rozpoznawalne\" obiekty, tworzymy etykiety klasyfikacji tło-obiekt\n",
        "    out_target = torch.where(torch.logical_or(out_target==0, out_target==255),out_target,torch.tensor(1, dtype=out_target.dtype))#1)\n",
        "    return out_image, out_target\n",
        "\n",
        "\n",
        "def test_pair_transforms(image, target):\n",
        "\n",
        "    resize = transforms.Resize((image.size[1]//4,image.size[0]//4), PIL.Image.NEAREST)\n",
        "    image = resize(image)\n",
        "    target = resize(target)\n",
        "\n",
        "    #  \n",
        "    w,h = image.size[0], image.size[1]\n",
        "    pad_top=(128-h)//2\n",
        "    pad_bottom=(128-h)//2+(128-h)%2\n",
        "    pad_left = (128-w)//2\n",
        "    pad_right=(128-w)//2+(128-w)%2\n",
        "    padding = torch.nn.ConstantPad2d([pad_left,pad_right,pad_top,pad_bottom], 0)\n",
        "    out_image = padding(transforms.ToTensor()(image))\n",
        "    padding = torch.nn.ConstantPad2d([pad_left,pad_right,pad_top,pad_bottom], 255)\n",
        "    out_target = padding(torch.from_numpy(np.array(target))).type(torch.long)\n",
        "\n",
        "    out_target = torch.where(torch.logical_or(out_target==0, out_target==255),out_target,torch.tensor(1, dtype=out_target.dtype))\n",
        "    \n",
        "    return out_image, out_target"
      ],
      "execution_count": 5,
      "outputs": []
    },
    {
      "cell_type": "markdown",
      "metadata": {
        "id": "61YHGov9q1mv"
      },
      "source": [
        "Załaduj zbiór danych ze zeefiniowaną transformacją, a następnie zweryfikuj, że augmentacja zgadza się pomiędzy obrazem a etykietą. "
      ]
    },
    {
      "cell_type": "code",
      "metadata": {
        "id": "JwTjN_rvh1HY",
        "colab": {
          "base_uri": "https://localhost:8080/"
        },
        "outputId": "8b5afb4e-0328-4ab8-953f-01dbb23c4b48"
      },
      "source": [
        "data = datasets.VOCSegmentation(\"root\", download=True, transforms=pair_transforms)"
      ],
      "execution_count": 6,
      "outputs": [
        {
          "output_type": "stream",
          "text": [
            "Using downloaded and verified file: root/VOCtrainval_11-May-2012.tar\n",
            "Extracting root/VOCtrainval_11-May-2012.tar to root\n"
          ],
          "name": "stdout"
        }
      ]
    },
    {
      "cell_type": "code",
      "metadata": {
        "id": "OAaJ5hl9fFWi",
        "colab": {
          "base_uri": "https://localhost:8080/"
        },
        "outputId": "059b01b8-8f0b-4e62-ec73-6f772317accf"
      },
      "source": [
        "test_data = datasets.VOCSegmentation(\"root\", download=True, image_set=\"val\", transforms=test_pair_transforms)"
      ],
      "execution_count": 7,
      "outputs": [
        {
          "output_type": "stream",
          "text": [
            "Using downloaded and verified file: root/VOCtrainval_11-May-2012.tar\n",
            "Extracting root/VOCtrainval_11-May-2012.tar to root\n"
          ],
          "name": "stdout"
        }
      ]
    },
    {
      "cell_type": "code",
      "metadata": {
        "id": "ZjsiQptQcMCS",
        "colab": {
          "base_uri": "https://localhost:8080/",
          "height": 774
        },
        "outputId": "bf224240-68dc-4f5d-de18-ce86fd4e07fc"
      },
      "source": [
        "from matplotlib import pyplot as plt\n",
        "\n",
        "image, label = data[0]\n",
        "plt.imshow(image.permute(1,2,0))\n",
        "plt.show()\n",
        "plt.imshow(label)\n",
        "plt.show()\n",
        "print(image.shape)\n",
        "print(label.shape)"
      ],
      "execution_count": 8,
      "outputs": [
        {
          "output_type": "stream",
          "text": [
            "/usr/local/lib/python3.7/dist-packages/torchvision/transforms/transforms.py:258: UserWarning: Argument interpolation should be of type InterpolationMode instead of int. Please, use InterpolationMode enum.\n",
            "  \"Argument interpolation should be of type InterpolationMode instead of int. \"\n"
          ],
          "name": "stderr"
        },
        {
          "output_type": "display_data",
          "data": {
            "image/png": "[encoded data removed]",
            "text/plain": [
              "<Figure size 432x288 with 1 Axes>"
            ]
          },
          "metadata": {
            "tags": [],
            "needs_background": "light"
          }
        },
        {
          "output_type": "display_data",
          "data": {
            "image/png": "[encoded data removed]",
            "text/plain": [
              "<Figure size 432x288 with 1 Axes>"
            ]
          },
          "metadata": {
            "tags": [],
            "needs_background": "light"
          }
        },
        {
          "output_type": "stream",
          "text": [
            "torch.Size([3, 128, 128])\n",
            "torch.Size([128, 128])\n",
            "tensor([255,   0,   0,   0,   0,   0,   0,   0,   0,   0,   0,   0,   0,   0,\n",
            "          0,   0,   0,   0,   0,   0,   0,   0,   0,   0,   0,   0,   0,   0,\n",
            "        255, 255, 255, 255, 255, 255, 255, 255, 255, 255, 255, 255, 255, 255,\n",
            "          1,   1,   1,   1,   1,   1, 255, 255, 255,   1,   1,   1,   1,   1,\n",
            "          1,   1,   1,   1,   1,   1,   1,   1, 255, 255, 255, 255, 255, 255,\n",
            "          0,   0,   0,   0,   0,   0,   0,   0,   0,   0,   0,   0,   0,   0,\n",
            "          0,   0,   0,   0,   0,   0,   0,   0,   0,   0,   0,   0,   0,   0,\n",
            "          0,   0,   0,   0,   0,   0,   0,   0,   0,   0,   0,   0,   0,   0,\n",
            "          0,   0,   0,   0,   0,   0,   0,   0,   0,   0,   0,   0,   0,   0,\n",
            "        255, 255])\n"
          ],
          "name": "stdout"
        }
      ]
    },
    {
      "cell_type": "markdown",
      "metadata": {
        "id": "NlFMUusBsaxN"
      },
      "source": [
        "Zauważ, że wartością 255 oznaczone są \"krawędzie\" pomiędzy właściwymi etykietami. Etykieta 255 nie powinna być brana pod uwagę przy wyliczaniu kosztu i metryk jakości segmentacji."
      ]
    },
    {
      "cell_type": "markdown",
      "metadata": {
        "id": "Yd_Crryr3BAs"
      },
      "source": [
        "# Architektura enkoder-dekoder\n",
        "\n",
        "\n",
        "Możemy przejść do zdefiniowania architektury enkoder-dekoder. Achitektura ta powinna przetworzyć obraz do niższej rozdzielczości, a następnie zwiększyć jego wymiar z powrotem do oryginalnego. Podobnie jak w standardowych sieciach konwolucyjnych do klasyfikacji, przydatne jest zwiększanie liczby kanałów wraz ze zmniejszaniem rozdzielczości. Pozwala to na zachowanie informacji po downsamplingu, oraz daje możliwość wyuczenia najbardziej złożonych zależności tam gdzie jest to najbardziej istotne, czyli w warstwach operujących na najniższej rozdzielczości gdzie pole recepcyjne filtra obejmuje największy fragment obrazu. Przy upsamplingu, liczba kanałów typowo będzie się zmniejszać. Dodatkowo, skrótowe połączenia według schematu: pierwsza warstwa do ostatniej, druga do przedostaniej etc. są typowym elementem takich architektur."
      ]
    },
    {
      "cell_type": "markdown",
      "metadata": {
        "id": "0_QcHzmmqSwG"
      },
      "source": [
        "# Zadanie 2\n",
        "\n",
        "Zmodyfikuj funkcję forward klasy SimpleEncoderDecoder tak, aby dodać połączenia skrótowe między warstwami o tej samej rozdzielczości.."
      ]
    },
    {
      "cell_type": "code",
      "metadata": {
        "id": "MmNTBPI-wJLN"
      },
      "source": [
        "from typing import List\n",
        "\n",
        "class SimpleEncoderDecoder(torch.nn.Module):\n",
        "  def __init__(self, channels, out_labels):\n",
        "    super().__init__()\n",
        "    self.conv_1 = torch.nn.Conv2d(3, channels[0], 3, padding=1)\n",
        "    self.conv_2 = torch.nn.Conv2d(channels[0], channels[1], 3, padding=1)\n",
        "    self.conv_3 = torch.nn.Conv2d(channels[1], channels[2], 3, padding=1)\n",
        "    self.conv_4 = torch.nn.Conv2d(channels[2], channels[2], 3, padding=1)\n",
        "    self.up_conv1 = torch.nn.ConvTranspose2d(channels[2], channels[1], 2, stride=2)\n",
        "    self.up_conv2 = torch.nn.ConvTranspose2d(channels[1], channels[0], 2, stride=2)\n",
        "    self.up_conv3 = torch.nn.ConvTranspose2d(channels[0], out_labels, 2, stride=2)\n",
        "    self.pool = torch.nn.MaxPool2d(2)\n",
        "    self.act = torch.nn.ReLU()\n",
        "    self.bnorm = torch.nn.BatchNorm2d(channels[2])\n",
        "  \n",
        "  def forward(self, x):\n",
        "    out = self.act(self.conv_1(x))\n",
        "    out = self.pool(out)\n",
        "    residual_1 = out\n",
        "    out = self.act(self.conv_2(out))\n",
        "    out = self.pool(out)\n",
        "    residual_2 = out\n",
        "    out = self.act(self.conv_3(out))\n",
        "    out= self.pool(out)\n",
        "    residual_3 = out\n",
        "    out = self.bnorm(out)\n",
        "    out = self.act(self.conv_4(out)) + residual_3\n",
        "    out = self.act(self.up_conv1(out)) + residual_2\n",
        "    out = self.act(self.up_conv2(out)) + residual_1\n",
        "    out = self.act(self.up_conv3(out))\n",
        "    return out"
      ],
      "execution_count": 10,
      "outputs": []
    },
    {
      "cell_type": "markdown",
      "metadata": {
        "id": "6hKbugh8_iH6"
      },
      "source": [
        "Zweryfikuj działanie sieci:"
      ]
    },
    {
      "cell_type": "code",
      "metadata": {
        "id": "sgs1IXSA_mLy"
      },
      "source": [
        "model = SimpleEncoderDecoder([32,64,128], 21).cuda()\n",
        "\n",
        "dummy_data = torch.zeros((32,3,64,64)).cuda()\n",
        "\n",
        "assert(model(dummy_data).shape==(32,21,64,64))"
      ],
      "execution_count": 11,
      "outputs": []
    },
    {
      "cell_type": "markdown",
      "metadata": {
        "id": "ZN00sFAb74QO"
      },
      "source": [
        "Zdefinujmy kod pomocniczy - jak zwykle można zastąpić własnym, uwzględniającym ulepszenia z poprzednich laboratoriów. Zauważ, że ze funkcja entropii krzyżowej nie wymaga adaptacji do zadania. Natomiast implementacja `count_correct` została zmieniona tak, aby nie zliczać pikseli oznaczonych wartością 255."
      ]
    },
    {
      "cell_type": "code",
      "metadata": {
        "id": "Q1W7wDlh5se4"
      },
      "source": [
        "import torchvision\n",
        "import torchvision.transforms as transforms\n",
        "import torch.nn as nn\n",
        "import torch.optim as optim\n",
        "from torch.utils.data import DataLoader\n",
        "from typing import Tuple\n",
        "from tqdm import tqdm\n",
        "\n",
        "def count_correct(\n",
        "    y_pred: torch.Tensor, y_true: torch.Tensor\n",
        ") -> torch.Tensor:\n",
        "    preds = torch.argmax(y_pred, dim=1)\n",
        "    not_bg = (y_true != 255).float()\n",
        "    return ((preds == y_true).float() * not_bg).sum() / not_bg.sum()\n",
        "\n",
        "def validate(\n",
        "    model: nn.Module, \n",
        "    loss_fn: torch.nn.CrossEntropyLoss, \n",
        "    dataloader: DataLoader\n",
        ") -> Tuple[torch.Tensor, torch.Tensor]:\n",
        "    loss = 0\n",
        "    correct = 0\n",
        "    all = 0\n",
        "    for X_batch, y_batch in dataloader:\n",
        "        y_pred = model(X_batch.cuda())\n",
        "        all += 1\n",
        "        loss += loss_fn(y_pred, y_batch.cuda()).sum()\n",
        "        correct += count_correct(y_pred, y_batch.cuda())\n",
        "    return loss / all, correct / all\n",
        "\n",
        "def fit(\n",
        "    model: nn.Module, optimiser: optim.Optimizer, \n",
        "    loss_fn: torch.nn.CrossEntropyLoss, train_dl: DataLoader, \n",
        "    val_dl: DataLoader, epochs: int, \n",
        "    print_metrics: str = True\n",
        "):\n",
        "  for epoch in tqdm(range(epochs)):\n",
        "      for X_batch, y_batch in train_dl:\n",
        "          y_pred = model(X_batch.cuda())\n",
        "          loss = loss_fn(y_pred, y_batch.cuda())\n",
        "          loss.backward()\n",
        "          optimiser.step()\n",
        "          optimiser.zero_grad()\n",
        "\n",
        "      if print_metrics: \n",
        "          model.eval()\n",
        "          with torch.no_grad():\n",
        "              train_loss, train_acc = validate(\n",
        "                  model=model, loss_fn=loss_fn, dataloader=train_dl\n",
        "              ) \n",
        "              val_loss, val_acc = validate(\n",
        "                  model=model, loss_fn=loss_fn, dataloader=val_dl\n",
        "              )\n",
        "              print(\n",
        "                  f\"Epoch {epoch}: \"\n",
        "                  f\"train loss = {train_loss:.3f} (acc: {train_acc:.3f}), \"\n",
        "                  f\"validation loss = {val_loss:.3f} (acc: {val_acc:.3f})\"\n",
        "              )"
      ],
      "execution_count": 12,
      "outputs": []
    },
    {
      "cell_type": "markdown",
      "metadata": {
        "id": "XPh6_3GN8qbz"
      },
      "source": [
        "Wyucz sieć na danych z VOCSegmentation.\n",
        "\n",
        "Uwaga: VOCSegmentation to dość trudny zbiór, nie trzeba tu osiągać wyjątkowo dobrych wyników.\n",
        "\n"
      ]
    },
    {
      "cell_type": "code",
      "metadata": {
        "id": "GdpVDFUt8uc6",
        "colab": {
          "base_uri": "https://localhost:8080/"
        },
        "outputId": "95d79fb6-6ee3-4925-cf63-b9294efa1bc2"
      },
      "source": [
        "model = SimpleEncoderDecoder([32,64,128], 2).cuda()\n",
        "\n",
        "loss = torch.nn.CrossEntropyLoss(ignore_index=255)\n",
        "train_dl = DataLoader(data, batch_size=32, shuffle=True)\n",
        "test_dl = DataLoader(test_data, batch_size=32)\n",
        "optimizer = optim.Adam(model.parameters())\n",
        "\n",
        "fit(model, optimizer, loss, train_dl, test_dl, 30, True)"
      ],
      "execution_count": 13,
      "outputs": [
        {
          "output_type": "stream",
          "text": [
            "\r  0%|          | 0/30 [00:00<?, ?it/s]/usr/local/lib/python3.7/dist-packages/torchvision/transforms/transforms.py:258: UserWarning: Argument interpolation should be of type InterpolationMode instead of int. Please, use InterpolationMode enum.\n",
            "  \"Argument interpolation should be of type InterpolationMode instead of int. \"\n",
            "  3%|▎         | 1/30 [00:24<12:03, 24.95s/it]"
          ],
          "name": "stderr"
        },
        {
          "output_type": "stream",
          "text": [
            "Epoch 0: train loss = 0.531 (acc: 0.739), validation loss = 0.541 (acc: 0.730)\n"
          ],
          "name": "stdout"
        },
        {
          "output_type": "stream",
          "text": [
            "\r  7%|▋         | 2/30 [00:49<11:31, 24.71s/it]"
          ],
          "name": "stderr"
        },
        {
          "output_type": "stream",
          "text": [
            "Epoch 1: train loss = 0.499 (acc: 0.740), validation loss = 0.510 (acc: 0.730)\n"
          ],
          "name": "stdout"
        },
        {
          "output_type": "stream",
          "text": [
            "\r 10%|█         | 3/30 [01:13<11:03, 24.56s/it]"
          ],
          "name": "stderr"
        },
        {
          "output_type": "stream",
          "text": [
            "Epoch 2: train loss = 0.472 (acc: 0.746), validation loss = 0.487 (acc: 0.737)\n"
          ],
          "name": "stdout"
        },
        {
          "output_type": "stream",
          "text": [
            "\r 13%|█▎        | 4/30 [01:37<10:35, 24.44s/it]"
          ],
          "name": "stderr"
        },
        {
          "output_type": "stream",
          "text": [
            "Epoch 3: train loss = 0.467 (acc: 0.747), validation loss = 0.476 (acc: 0.739)\n"
          ],
          "name": "stdout"
        },
        {
          "output_type": "stream",
          "text": [
            "\r 17%|█▋        | 5/30 [02:01<10:08, 24.33s/it]"
          ],
          "name": "stderr"
        },
        {
          "output_type": "stream",
          "text": [
            "Epoch 4: train loss = 0.457 (acc: 0.753), validation loss = 0.469 (acc: 0.745)\n"
          ],
          "name": "stdout"
        },
        {
          "output_type": "stream",
          "text": [
            "\r 20%|██        | 6/30 [02:25<09:44, 24.33s/it]"
          ],
          "name": "stderr"
        },
        {
          "output_type": "stream",
          "text": [
            "Epoch 5: train loss = 0.477 (acc: 0.748), validation loss = 0.492 (acc: 0.737)\n"
          ],
          "name": "stdout"
        },
        {
          "output_type": "stream",
          "text": [
            "\r 23%|██▎       | 7/30 [02:49<09:17, 24.26s/it]"
          ],
          "name": "stderr"
        },
        {
          "output_type": "stream",
          "text": [
            "Epoch 6: train loss = 0.450 (acc: 0.758), validation loss = 0.464 (acc: 0.749)\n"
          ],
          "name": "stdout"
        },
        {
          "output_type": "stream",
          "text": [
            "\r 27%|██▋       | 8/30 [03:14<08:52, 24.20s/it]"
          ],
          "name": "stderr"
        },
        {
          "output_type": "stream",
          "text": [
            "Epoch 7: train loss = 0.457 (acc: 0.759), validation loss = 0.473 (acc: 0.750)\n"
          ],
          "name": "stdout"
        },
        {
          "output_type": "stream",
          "text": [
            "\r 30%|███       | 9/30 [03:38<08:27, 24.17s/it]"
          ],
          "name": "stderr"
        },
        {
          "output_type": "stream",
          "text": [
            "Epoch 8: train loss = 0.441 (acc: 0.775), validation loss = 0.456 (acc: 0.766)\n"
          ],
          "name": "stdout"
        },
        {
          "output_type": "stream",
          "text": [
            "\r 33%|███▎      | 10/30 [04:02<08:03, 24.17s/it]"
          ],
          "name": "stderr"
        },
        {
          "output_type": "stream",
          "text": [
            "Epoch 9: train loss = 0.439 (acc: 0.784), validation loss = 0.453 (acc: 0.776)\n"
          ],
          "name": "stdout"
        },
        {
          "output_type": "stream",
          "text": [
            "\r 37%|███▋      | 11/30 [04:26<07:38, 24.14s/it]"
          ],
          "name": "stderr"
        },
        {
          "output_type": "stream",
          "text": [
            "Epoch 10: train loss = 0.450 (acc: 0.777), validation loss = 0.459 (acc: 0.770)\n"
          ],
          "name": "stdout"
        },
        {
          "output_type": "stream",
          "text": [
            "\r 40%|████      | 12/30 [04:50<07:14, 24.15s/it]"
          ],
          "name": "stderr"
        },
        {
          "output_type": "stream",
          "text": [
            "Epoch 11: train loss = 0.433 (acc: 0.787), validation loss = 0.452 (acc: 0.777)\n"
          ],
          "name": "stdout"
        },
        {
          "output_type": "stream",
          "text": [
            "\r 43%|████▎     | 13/30 [05:14<06:51, 24.19s/it]"
          ],
          "name": "stderr"
        },
        {
          "output_type": "stream",
          "text": [
            "Epoch 12: train loss = 0.428 (acc: 0.792), validation loss = 0.442 (acc: 0.782)\n"
          ],
          "name": "stdout"
        },
        {
          "output_type": "stream",
          "text": [
            "\r 47%|████▋     | 14/30 [05:39<06:28, 24.31s/it]"
          ],
          "name": "stderr"
        },
        {
          "output_type": "stream",
          "text": [
            "Epoch 13: train loss = 0.423 (acc: 0.794), validation loss = 0.440 (acc: 0.781)\n"
          ],
          "name": "stdout"
        },
        {
          "output_type": "stream",
          "text": [
            "\r 50%|█████     | 15/30 [06:04<06:07, 24.50s/it]"
          ],
          "name": "stderr"
        },
        {
          "output_type": "stream",
          "text": [
            "Epoch 14: train loss = 0.422 (acc: 0.797), validation loss = 0.441 (acc: 0.783)\n"
          ],
          "name": "stdout"
        },
        {
          "output_type": "stream",
          "text": [
            "\r 53%|█████▎    | 16/30 [06:29<05:44, 24.61s/it]"
          ],
          "name": "stderr"
        },
        {
          "output_type": "stream",
          "text": [
            "Epoch 15: train loss = 0.467 (acc: 0.768), validation loss = 0.489 (acc: 0.754)\n"
          ],
          "name": "stdout"
        },
        {
          "output_type": "stream",
          "text": [
            "\r 57%|█████▋    | 17/30 [06:53<05:19, 24.55s/it]"
          ],
          "name": "stderr"
        },
        {
          "output_type": "stream",
          "text": [
            "Epoch 16: train loss = 0.432 (acc: 0.790), validation loss = 0.450 (acc: 0.779)\n"
          ],
          "name": "stdout"
        },
        {
          "output_type": "stream",
          "text": [
            "\r 60%|██████    | 18/30 [07:18<04:53, 24.50s/it]"
          ],
          "name": "stderr"
        },
        {
          "output_type": "stream",
          "text": [
            "Epoch 17: train loss = 0.419 (acc: 0.798), validation loss = 0.439 (acc: 0.785)\n"
          ],
          "name": "stdout"
        },
        {
          "output_type": "stream",
          "text": [
            "\r 63%|██████▎   | 19/30 [07:42<04:29, 24.48s/it]"
          ],
          "name": "stderr"
        },
        {
          "output_type": "stream",
          "text": [
            "Epoch 18: train loss = 0.418 (acc: 0.799), validation loss = 0.439 (acc: 0.786)\n"
          ],
          "name": "stdout"
        },
        {
          "output_type": "stream",
          "text": [
            "\r 67%|██████▋   | 20/30 [08:06<04:04, 24.41s/it]"
          ],
          "name": "stderr"
        },
        {
          "output_type": "stream",
          "text": [
            "Epoch 19: train loss = 0.416 (acc: 0.796), validation loss = 0.440 (acc: 0.781)\n"
          ],
          "name": "stdout"
        },
        {
          "output_type": "stream",
          "text": [
            "\r 70%|███████   | 21/30 [08:30<03:39, 24.36s/it]"
          ],
          "name": "stderr"
        },
        {
          "output_type": "stream",
          "text": [
            "Epoch 20: train loss = 0.440 (acc: 0.783), validation loss = 0.461 (acc: 0.772)\n"
          ],
          "name": "stdout"
        },
        {
          "output_type": "stream",
          "text": [
            "\r 73%|███████▎  | 22/30 [08:55<03:14, 24.32s/it]"
          ],
          "name": "stderr"
        },
        {
          "output_type": "stream",
          "text": [
            "Epoch 21: train loss = 0.424 (acc: 0.796), validation loss = 0.451 (acc: 0.782)\n"
          ],
          "name": "stdout"
        },
        {
          "output_type": "stream",
          "text": [
            "\r 77%|███████▋  | 23/30 [09:19<02:50, 24.30s/it]"
          ],
          "name": "stderr"
        },
        {
          "output_type": "stream",
          "text": [
            "Epoch 22: train loss = 0.450 (acc: 0.783), validation loss = 0.471 (acc: 0.770)\n"
          ],
          "name": "stdout"
        },
        {
          "output_type": "stream",
          "text": [
            "\r 80%|████████  | 24/30 [09:43<02:25, 24.28s/it]"
          ],
          "name": "stderr"
        },
        {
          "output_type": "stream",
          "text": [
            "Epoch 23: train loss = 0.407 (acc: 0.804), validation loss = 0.434 (acc: 0.788)\n"
          ],
          "name": "stdout"
        },
        {
          "output_type": "stream",
          "text": [
            "\r 83%|████████▎ | 25/30 [10:07<02:01, 24.26s/it]"
          ],
          "name": "stderr"
        },
        {
          "output_type": "stream",
          "text": [
            "Epoch 24: train loss = 0.403 (acc: 0.806), validation loss = 0.430 (acc: 0.790)\n"
          ],
          "name": "stdout"
        },
        {
          "output_type": "stream",
          "text": [
            "\r 87%|████████▋ | 26/30 [10:32<01:37, 24.28s/it]"
          ],
          "name": "stderr"
        },
        {
          "output_type": "stream",
          "text": [
            "Epoch 25: train loss = 0.405 (acc: 0.805), validation loss = 0.427 (acc: 0.790)\n"
          ],
          "name": "stdout"
        },
        {
          "output_type": "stream",
          "text": [
            "\r 90%|█████████ | 27/30 [10:56<01:12, 24.28s/it]"
          ],
          "name": "stderr"
        },
        {
          "output_type": "stream",
          "text": [
            "Epoch 26: train loss = 0.408 (acc: 0.804), validation loss = 0.435 (acc: 0.789)\n"
          ],
          "name": "stdout"
        },
        {
          "output_type": "stream",
          "text": [
            "\r 93%|█████████▎| 28/30 [11:20<00:48, 24.28s/it]"
          ],
          "name": "stderr"
        },
        {
          "output_type": "stream",
          "text": [
            "Epoch 27: train loss = 0.401 (acc: 0.809), validation loss = 0.428 (acc: 0.792)\n"
          ],
          "name": "stdout"
        },
        {
          "output_type": "stream",
          "text": [
            "\r 97%|█████████▋| 29/30 [11:44<00:24, 24.25s/it]"
          ],
          "name": "stderr"
        },
        {
          "output_type": "stream",
          "text": [
            "Epoch 28: train loss = 0.393 (acc: 0.812), validation loss = 0.425 (acc: 0.794)\n"
          ],
          "name": "stdout"
        },
        {
          "output_type": "stream",
          "text": [
            "100%|██████████| 30/30 [12:09<00:00, 24.31s/it]"
          ],
          "name": "stderr"
        },
        {
          "output_type": "stream",
          "text": [
            "Epoch 29: train loss = 0.401 (acc: 0.809), validation loss = 0.436 (acc: 0.789)\n"
          ],
          "name": "stdout"
        },
        {
          "output_type": "stream",
          "text": [
            "\n"
          ],
          "name": "stderr"
        }
      ]
    },
    {
      "cell_type": "markdown",
      "metadata": {
        "id": "tr8S8FTfvWuD"
      },
      "source": [
        "# Zadanie 3\n",
        "\n",
        "Zdefiniuj parametryzowalną klasę EncoderDecoder, umożliwiającą wybór liczby warstw i liczby kanałów w poszczególnych warstwach. Klasa powinna dodawać połączenia skrótowe pomiędzy warstwami w początkowej a końcowej części architektury o tej samej rozdzielczości. Połączenia skrótowe powinny działać przez konkatenację.\n",
        "\n",
        "Klasa powinna umożlwiać wybór pomiędzy upsamplingiem z wykorzsytaniem `ConvTranspose2D` a `torch.nn.Upsample`. Sprawdź wyniki tej drugiej opcji z parametrami analogicznymi do testów `SimpleEncoderDecoder` na segmentacji VOC.\n",
        "\n"
      ]
    },
    {
      "cell_type": "code",
      "metadata": {
        "id": "giFyVcpXZvN3"
      },
      "source": [
        "from enum import Enum\n",
        "import torch\n",
        "\n",
        "class UPSAMPLE_TYPE(Enum):\n",
        "    CONV_TRANSPOSE = 1\n",
        "    UPSAMPLE = 2\n",
        "\n",
        "class EncoderDecoder(torch.nn.Module):\n",
        "    def __init__(self, channels, out_labels, upsampling_type: UPSAMPLE_TYPE):\n",
        "        super().__init__()\n",
        "        self.encoder_model = torch.nn.Sequential()\n",
        "        self.decoder_model = torch.nn.Sequential()\n",
        "        self.pool = torch.nn.MaxPool2d(2)\n",
        "        self.act = torch.nn.ReLU()\n",
        "        self.upsampling_type=upsampling_type\n",
        "        \n",
        "        self.encoder_model.add_module(\"conv_0\", torch.nn.Conv2d(3,channels[0],3, padding=1))\n",
        "        for i in range(len(channels)-1):\n",
        "            self.encoder_model.add_module(f\"conv_{i+1}\", torch.nn.Conv2d(channels[i], channels[i+1], 3, padding=1))\n",
        "        self.encoder_model.add_module(f\"conv_{i+2}\", torch.nn.Conv2d(channels[i+1],channels[i+1],3, padding=1))\n",
        "        \n",
        "        self.bnorm = torch.nn.BatchNorm2d(channels[i+1])\n",
        "\n",
        "        channels = [out_labels] + channels\n",
        "        for i in range(len(channels)-1, 0, -1):\n",
        "            if upsampling_type==UPSAMPLE_TYPE.CONV_TRANSPOSE:\n",
        "                self.decoder_model.add_module(f\"up_conv_{len(channels)-1-i}\", torch.nn.ConvTranspose2d(channels[i]*2, channels[i-1], 2, stride=2))\n",
        "\n",
        "            elif upsampling_type==UPSAMPLE_TYPE.UPSAMPLE:\n",
        "                self.decoder_model.add_module(f\"upsample_{len(channels)-1-i}\", torch.nn.Upsample(scale_factor=2))\n",
        "                self.decoder_model.add_module(f\"conv_{len(channels)-1-i}\", torch.nn.Conv2d(2*channels[i], channels[i-1], 1))\n",
        "  \n",
        "    def forward(self, x):\n",
        "        residuals=[]\n",
        "        out=x\n",
        "        for i in range (len(self.encoder_model)-1):\n",
        "            out = self.act(self.encoder_model[i](out))\n",
        "            out = self.pool(out)\n",
        "            residuals.append(out)\n",
        "        out = self.bnorm(out)\n",
        "        out = self.act(self.encoder_model[i+1](out))\n",
        "\n",
        "        if self.upsampling_type==UPSAMPLE_TYPE.CONV_TRANSPOSE:\n",
        "            for i in range(len(self.decoder_model)):\n",
        "                input = torch.cat((out, residuals[-i-1]), dim=1)\n",
        "                out = self.act(self.decoder_model[i](input))    \n",
        "        elif self.upsampling_type==UPSAMPLE_TYPE.UPSAMPLE:\n",
        "            for i in range(len(self.decoder_model)//2):\n",
        "                input = torch.cat((out, residuals[-i-1]), dim=1)\n",
        "                out = self.act(self.decoder_model[2*i](input))\n",
        "                out = self.act(self.decoder_model[2*i+1](out))    \n",
        "       \n",
        "        return out"
      ],
      "execution_count": 81,
      "outputs": []
    },
    {
      "cell_type": "code",
      "metadata": {
        "colab": {
          "base_uri": "https://localhost:8080/"
        },
        "id": "d8HJMggIe7VO",
        "outputId": "8caa92b6-c19f-4cd4-fb53-bb3d7d771b3d"
      },
      "source": [
        "model = EncoderDecoder([32,64,128], 2, UPSAMPLE_TYPE.CONV_TRANSPOSE)\n",
        "model"
      ],
      "execution_count": 82,
      "outputs": [
        {
          "output_type": "execute_result",
          "data": {
            "text/plain": [
              "EncoderDecoder(\n",
              "  (encoder_model): Sequential(\n",
              "    (conv_0): Conv2d(3, 32, kernel_size=(3, 3), stride=(1, 1), padding=(1, 1))\n",
              "    (conv_1): Conv2d(32, 64, kernel_size=(3, 3), stride=(1, 1), padding=(1, 1))\n",
              "    (conv_2): Conv2d(64, 128, kernel_size=(3, 3), stride=(1, 1), padding=(1, 1))\n",
              "    (conv_3): Conv2d(128, 128, kernel_size=(3, 3), stride=(1, 1), padding=(1, 1))\n",
              "  )\n",
              "  (decoder_model): Sequential(\n",
              "    (up_conv_0): ConvTranspose2d(256, 64, kernel_size=(2, 2), stride=(2, 2))\n",
              "    (up_conv_1): ConvTranspose2d(128, 32, kernel_size=(2, 2), stride=(2, 2))\n",
              "    (up_conv_2): ConvTranspose2d(64, 2, kernel_size=(2, 2), stride=(2, 2))\n",
              "  )\n",
              "  (pool): MaxPool2d(kernel_size=2, stride=2, padding=0, dilation=1, ceil_mode=False)\n",
              "  (act): ReLU()\n",
              "  (bnorm): BatchNorm2d(128, eps=1e-05, momentum=0.1, affine=True, track_running_stats=True)\n",
              ")"
            ]
          },
          "metadata": {
            "tags": []
          },
          "execution_count": 82
        }
      ]
    },
    {
      "cell_type": "code",
      "metadata": {
        "colab": {
          "base_uri": "https://localhost:8080/"
        },
        "id": "1V33ur_0SxmF",
        "outputId": "aecda5a5-23db-41ec-aaba-e87a913e3876"
      },
      "source": [
        "model = EncoderDecoder([32,64,128], 2, UPSAMPLE_TYPE.UPSAMPLE)\n",
        "model"
      ],
      "execution_count": 83,
      "outputs": [
        {
          "output_type": "execute_result",
          "data": {
            "text/plain": [
              "EncoderDecoder(\n",
              "  (encoder_model): Sequential(\n",
              "    (conv_0): Conv2d(3, 32, kernel_size=(3, 3), stride=(1, 1), padding=(1, 1))\n",
              "    (conv_1): Conv2d(32, 64, kernel_size=(3, 3), stride=(1, 1), padding=(1, 1))\n",
              "    (conv_2): Conv2d(64, 128, kernel_size=(3, 3), stride=(1, 1), padding=(1, 1))\n",
              "    (conv_3): Conv2d(128, 128, kernel_size=(3, 3), stride=(1, 1), padding=(1, 1))\n",
              "  )\n",
              "  (decoder_model): Sequential(\n",
              "    (upsample_0): Upsample(scale_factor=2.0, mode=nearest)\n",
              "    (conv_0): Conv2d(256, 64, kernel_size=(1, 1), stride=(1, 1))\n",
              "    (upsample_1): Upsample(scale_factor=2.0, mode=nearest)\n",
              "    (conv_1): Conv2d(128, 32, kernel_size=(1, 1), stride=(1, 1))\n",
              "    (upsample_2): Upsample(scale_factor=2.0, mode=nearest)\n",
              "    (conv_2): Conv2d(64, 2, kernel_size=(1, 1), stride=(1, 1))\n",
              "  )\n",
              "  (pool): MaxPool2d(kernel_size=2, stride=2, padding=0, dilation=1, ceil_mode=False)\n",
              "  (act): ReLU()\n",
              "  (bnorm): BatchNorm2d(128, eps=1e-05, momentum=0.1, affine=True, track_running_stats=True)\n",
              ")"
            ]
          },
          "metadata": {
            "tags": []
          },
          "execution_count": 83
        }
      ]
    },
    {
      "cell_type": "code",
      "metadata": {
        "colab": {
          "base_uri": "https://localhost:8080/"
        },
        "id": "5BRsPkiBCnkH",
        "outputId": "be665e2b-99c7-46ac-ad28-e52b2ee844e2"
      },
      "source": [
        "model = EncoderDecoder([32,64,128], 2, UPSAMPLE_TYPE.CONV_TRANSPOSE).cuda()\n",
        "\n",
        "loss = torch.nn.CrossEntropyLoss(ignore_index=255)\n",
        "train_dl = DataLoader(data, batch_size=32, shuffle=True)\n",
        "test_dl = DataLoader(test_data, batch_size=32)\n",
        "optimizer = optim.Adam(model.parameters())\n",
        "\n",
        "fit(model, optimizer, loss, train_dl, test_dl, 30, True)"
      ],
      "execution_count": 88,
      "outputs": [
        {
          "output_type": "stream",
          "text": [
            "\n",
            "\n",
            "  0%|          | 0/30 [00:00<?, ?it/s]\u001b[A\u001b[A/usr/local/lib/python3.7/dist-packages/torchvision/transforms/transforms.py:258: UserWarning: Argument interpolation should be of type InterpolationMode instead of int. Please, use InterpolationMode enum.\n",
            "  \"Argument interpolation should be of type InterpolationMode instead of int. \"\n",
            "\n",
            "\n",
            "  3%|▎         | 1/30 [00:24<11:41, 24.19s/it]\u001b[A\u001b[A"
          ],
          "name": "stderr"
        },
        {
          "output_type": "stream",
          "text": [
            "Epoch 0: train loss = 0.531 (acc: 0.740), validation loss = 0.545 (acc: 0.730)\n"
          ],
          "name": "stdout"
        },
        {
          "output_type": "stream",
          "text": [
            "\n",
            "\n",
            "  7%|▋         | 2/30 [00:48<11:18, 24.23s/it]\u001b[A\u001b[A"
          ],
          "name": "stderr"
        },
        {
          "output_type": "stream",
          "text": [
            "Epoch 1: train loss = 0.503 (acc: 0.739), validation loss = 0.515 (acc: 0.731)\n"
          ],
          "name": "stdout"
        },
        {
          "output_type": "stream",
          "text": [
            "\n",
            "\n",
            " 10%|█         | 3/30 [01:12<10:54, 24.23s/it]\u001b[A\u001b[A"
          ],
          "name": "stderr"
        },
        {
          "output_type": "stream",
          "text": [
            "Epoch 2: train loss = 0.473 (acc: 0.768), validation loss = 0.485 (acc: 0.762)\n"
          ],
          "name": "stdout"
        },
        {
          "output_type": "stream",
          "text": [
            "\n",
            "\n",
            " 13%|█▎        | 4/30 [01:36<10:30, 24.24s/it]\u001b[A\u001b[A"
          ],
          "name": "stderr"
        },
        {
          "output_type": "stream",
          "text": [
            "Epoch 3: train loss = 0.464 (acc: 0.771), validation loss = 0.476 (acc: 0.764)\n"
          ],
          "name": "stdout"
        },
        {
          "output_type": "stream",
          "text": [
            "\n",
            "\n",
            " 17%|█▋        | 5/30 [02:01<10:06, 24.27s/it]\u001b[A\u001b[A"
          ],
          "name": "stderr"
        },
        {
          "output_type": "stream",
          "text": [
            "Epoch 4: train loss = 0.455 (acc: 0.778), validation loss = 0.462 (acc: 0.771)\n"
          ],
          "name": "stdout"
        },
        {
          "output_type": "stream",
          "text": [
            "\n",
            "\n",
            " 20%|██        | 6/30 [02:25<09:41, 24.23s/it]\u001b[A\u001b[A"
          ],
          "name": "stderr"
        },
        {
          "output_type": "stream",
          "text": [
            "Epoch 5: train loss = 0.458 (acc: 0.766), validation loss = 0.474 (acc: 0.758)\n"
          ],
          "name": "stdout"
        },
        {
          "output_type": "stream",
          "text": [
            "\n",
            "\n",
            " 23%|██▎       | 7/30 [02:49<09:17, 24.24s/it]\u001b[A\u001b[A"
          ],
          "name": "stderr"
        },
        {
          "output_type": "stream",
          "text": [
            "Epoch 6: train loss = 0.460 (acc: 0.776), validation loss = 0.472 (acc: 0.768)\n"
          ],
          "name": "stdout"
        },
        {
          "output_type": "stream",
          "text": [
            "\n",
            "\n",
            " 27%|██▋       | 8/30 [03:14<08:53, 24.26s/it]\u001b[A\u001b[A"
          ],
          "name": "stderr"
        },
        {
          "output_type": "stream",
          "text": [
            "Epoch 7: train loss = 0.444 (acc: 0.783), validation loss = 0.457 (acc: 0.775)\n"
          ],
          "name": "stdout"
        },
        {
          "output_type": "stream",
          "text": [
            "\n",
            "\n",
            " 30%|███       | 9/30 [03:38<08:28, 24.24s/it]\u001b[A\u001b[A"
          ],
          "name": "stderr"
        },
        {
          "output_type": "stream",
          "text": [
            "Epoch 8: train loss = 0.443 (acc: 0.786), validation loss = 0.456 (acc: 0.777)\n"
          ],
          "name": "stdout"
        },
        {
          "output_type": "stream",
          "text": [
            "\n",
            "\n",
            " 33%|███▎      | 10/30 [04:02<08:04, 24.23s/it]\u001b[A\u001b[A"
          ],
          "name": "stderr"
        },
        {
          "output_type": "stream",
          "text": [
            "Epoch 9: train loss = 0.435 (acc: 0.788), validation loss = 0.449 (acc: 0.777)\n"
          ],
          "name": "stdout"
        },
        {
          "output_type": "stream",
          "text": [
            "\n",
            "\n",
            " 37%|███▋      | 11/30 [04:26<07:40, 24.23s/it]\u001b[A\u001b[A"
          ],
          "name": "stderr"
        },
        {
          "output_type": "stream",
          "text": [
            "Epoch 10: train loss = 0.429 (acc: 0.792), validation loss = 0.445 (acc: 0.781)\n"
          ],
          "name": "stdout"
        },
        {
          "output_type": "stream",
          "text": [
            "\n",
            "\n",
            " 40%|████      | 12/30 [04:50<07:16, 24.25s/it]\u001b[A\u001b[A"
          ],
          "name": "stderr"
        },
        {
          "output_type": "stream",
          "text": [
            "Epoch 11: train loss = 0.430 (acc: 0.792), validation loss = 0.446 (acc: 0.780)\n"
          ],
          "name": "stdout"
        },
        {
          "output_type": "stream",
          "text": [
            "\n",
            "\n",
            " 43%|████▎     | 13/30 [05:15<06:52, 24.25s/it]\u001b[A\u001b[A"
          ],
          "name": "stderr"
        },
        {
          "output_type": "stream",
          "text": [
            "Epoch 12: train loss = 0.431 (acc: 0.791), validation loss = 0.450 (acc: 0.779)\n"
          ],
          "name": "stdout"
        },
        {
          "output_type": "stream",
          "text": [
            "\n",
            "\n",
            " 47%|████▋     | 14/30 [05:39<06:27, 24.22s/it]\u001b[A\u001b[A"
          ],
          "name": "stderr"
        },
        {
          "output_type": "stream",
          "text": [
            "Epoch 13: train loss = 0.432 (acc: 0.790), validation loss = 0.448 (acc: 0.779)\n"
          ],
          "name": "stdout"
        },
        {
          "output_type": "stream",
          "text": [
            "\n",
            "\n",
            " 50%|█████     | 15/30 [06:03<06:03, 24.25s/it]\u001b[A\u001b[A"
          ],
          "name": "stderr"
        },
        {
          "output_type": "stream",
          "text": [
            "Epoch 14: train loss = 0.426 (acc: 0.794), validation loss = 0.445 (acc: 0.781)\n"
          ],
          "name": "stdout"
        },
        {
          "output_type": "stream",
          "text": [
            "\n",
            "\n",
            " 53%|█████▎    | 16/30 [06:28<05:40, 24.29s/it]\u001b[A\u001b[A"
          ],
          "name": "stderr"
        },
        {
          "output_type": "stream",
          "text": [
            "Epoch 15: train loss = 0.421 (acc: 0.798), validation loss = 0.440 (acc: 0.786)\n"
          ],
          "name": "stdout"
        },
        {
          "output_type": "stream",
          "text": [
            "\n",
            "\n",
            " 57%|█████▋    | 17/30 [06:52<05:15, 24.27s/it]\u001b[A\u001b[A"
          ],
          "name": "stderr"
        },
        {
          "output_type": "stream",
          "text": [
            "Epoch 16: train loss = 0.416 (acc: 0.800), validation loss = 0.439 (acc: 0.786)\n"
          ],
          "name": "stdout"
        },
        {
          "output_type": "stream",
          "text": [
            "\n",
            "\n",
            " 60%|██████    | 18/30 [07:16<04:51, 24.28s/it]\u001b[A\u001b[A"
          ],
          "name": "stderr"
        },
        {
          "output_type": "stream",
          "text": [
            "Epoch 17: train loss = 0.417 (acc: 0.800), validation loss = 0.436 (acc: 0.788)\n"
          ],
          "name": "stdout"
        },
        {
          "output_type": "stream",
          "text": [
            "\n",
            "\n",
            " 63%|██████▎   | 19/30 [07:40<04:26, 24.27s/it]\u001b[A\u001b[A"
          ],
          "name": "stderr"
        },
        {
          "output_type": "stream",
          "text": [
            "Epoch 18: train loss = 0.414 (acc: 0.802), validation loss = 0.434 (acc: 0.791)\n"
          ],
          "name": "stdout"
        },
        {
          "output_type": "stream",
          "text": [
            "\n",
            "\n",
            " 67%|██████▋   | 20/30 [08:05<04:02, 24.24s/it]\u001b[A\u001b[A"
          ],
          "name": "stderr"
        },
        {
          "output_type": "stream",
          "text": [
            "Epoch 19: train loss = 0.406 (acc: 0.804), validation loss = 0.431 (acc: 0.788)\n"
          ],
          "name": "stdout"
        },
        {
          "output_type": "stream",
          "text": [
            "\n",
            "\n",
            " 70%|███████   | 21/30 [08:29<03:38, 24.28s/it]\u001b[A\u001b[A"
          ],
          "name": "stderr"
        },
        {
          "output_type": "stream",
          "text": [
            "Epoch 20: train loss = 0.421 (acc: 0.796), validation loss = 0.442 (acc: 0.783)\n"
          ],
          "name": "stdout"
        },
        {
          "output_type": "stream",
          "text": [
            "\n",
            "\n",
            " 73%|███████▎  | 22/30 [08:53<03:14, 24.26s/it]\u001b[A\u001b[A"
          ],
          "name": "stderr"
        },
        {
          "output_type": "stream",
          "text": [
            "Epoch 21: train loss = 0.413 (acc: 0.801), validation loss = 0.439 (acc: 0.785)\n"
          ],
          "name": "stdout"
        },
        {
          "output_type": "stream",
          "text": [
            "\n",
            "\n",
            " 77%|███████▋  | 23/30 [09:17<02:49, 24.25s/it]\u001b[A\u001b[A"
          ],
          "name": "stderr"
        },
        {
          "output_type": "stream",
          "text": [
            "Epoch 22: train loss = 0.402 (acc: 0.808), validation loss = 0.429 (acc: 0.792)\n"
          ],
          "name": "stdout"
        },
        {
          "output_type": "stream",
          "text": [
            "\n",
            "\n",
            " 80%|████████  | 24/30 [09:42<02:25, 24.24s/it]\u001b[A\u001b[A"
          ],
          "name": "stderr"
        },
        {
          "output_type": "stream",
          "text": [
            "Epoch 23: train loss = 0.405 (acc: 0.807), validation loss = 0.433 (acc: 0.790)\n"
          ],
          "name": "stdout"
        },
        {
          "output_type": "stream",
          "text": [
            "\n",
            "\n",
            " 83%|████████▎ | 25/30 [10:06<02:01, 24.25s/it]\u001b[A\u001b[A"
          ],
          "name": "stderr"
        },
        {
          "output_type": "stream",
          "text": [
            "Epoch 24: train loss = 0.408 (acc: 0.804), validation loss = 0.436 (acc: 0.787)\n"
          ],
          "name": "stdout"
        },
        {
          "output_type": "stream",
          "text": [
            "\n",
            "\n",
            " 87%|████████▋ | 26/30 [10:30<01:36, 24.20s/it]\u001b[A\u001b[A"
          ],
          "name": "stderr"
        },
        {
          "output_type": "stream",
          "text": [
            "Epoch 25: train loss = 0.401 (acc: 0.809), validation loss = 0.429 (acc: 0.793)\n"
          ],
          "name": "stdout"
        },
        {
          "output_type": "stream",
          "text": [
            "\n",
            "\n",
            " 90%|█████████ | 27/30 [10:54<01:12, 24.20s/it]\u001b[A\u001b[A"
          ],
          "name": "stderr"
        },
        {
          "output_type": "stream",
          "text": [
            "Epoch 26: train loss = 0.401 (acc: 0.810), validation loss = 0.431 (acc: 0.792)\n"
          ],
          "name": "stdout"
        },
        {
          "output_type": "stream",
          "text": [
            "\n",
            "\n",
            " 93%|█████████▎| 28/30 [11:18<00:48, 24.19s/it]\u001b[A\u001b[A"
          ],
          "name": "stderr"
        },
        {
          "output_type": "stream",
          "text": [
            "Epoch 27: train loss = 0.393 (acc: 0.812), validation loss = 0.426 (acc: 0.792)\n"
          ],
          "name": "stdout"
        },
        {
          "output_type": "stream",
          "text": [
            "\n",
            "\n",
            " 97%|█████████▋| 29/30 [11:43<00:24, 24.23s/it]\u001b[A\u001b[A"
          ],
          "name": "stderr"
        },
        {
          "output_type": "stream",
          "text": [
            "Epoch 28: train loss = 0.402 (acc: 0.810), validation loss = 0.431 (acc: 0.791)\n"
          ],
          "name": "stdout"
        },
        {
          "output_type": "stream",
          "text": [
            "\n",
            "\n",
            "100%|██████████| 30/30 [12:07<00:00, 24.25s/it]"
          ],
          "name": "stderr"
        },
        {
          "output_type": "stream",
          "text": [
            "Epoch 29: train loss = 0.396 (acc: 0.813), validation loss = 0.423 (acc: 0.795)\n"
          ],
          "name": "stdout"
        },
        {
          "output_type": "stream",
          "text": [
            "\n"
          ],
          "name": "stderr"
        }
      ]
    },
    {
      "cell_type": "code",
      "metadata": {
        "colab": {
          "base_uri": "https://localhost:8080/"
        },
        "id": "2P1m04jyf3A2",
        "outputId": "7b066c74-c2ad-4706-f21f-8a8702261242"
      },
      "source": [
        "model = EncoderDecoder([32,64,128], 2, UPSAMPLE_TYPE.UPSAMPLE).cuda()\n",
        "\n",
        "loss = torch.nn.CrossEntropyLoss(ignore_index=255)\n",
        "train_dl = DataLoader(data, batch_size=32, shuffle=True)\n",
        "test_dl = DataLoader(test_data, batch_size=32)\n",
        "optimizer = optim.Adam(model.parameters())\n",
        "\n",
        "fit(model, optimizer, loss, train_dl, test_dl, 30, True)"
      ],
      "execution_count": null,
      "outputs": [
        {
          "output_type": "stream",
          "text": [
            "\n",
            "\n",
            "  0%|          | 0/30 [00:00<?, ?it/s]\u001b[A\u001b[A/usr/local/lib/python3.7/dist-packages/torchvision/transforms/transforms.py:258: UserWarning: Argument interpolation should be of type InterpolationMode instead of int. Please, use InterpolationMode enum.\n",
            "  \"Argument interpolation should be of type InterpolationMode instead of int. \"\n",
            "\n",
            "\n",
            "  3%|▎         | 1/30 [00:24<12:04, 24.97s/it]\u001b[A\u001b[A"
          ],
          "name": "stderr"
        },
        {
          "output_type": "stream",
          "text": [
            "Epoch 0: train loss = 0.507 (acc: 0.738), validation loss = 0.511 (acc: 0.730)\n"
          ],
          "name": "stdout"
        }
      ]
    }
  ]
}